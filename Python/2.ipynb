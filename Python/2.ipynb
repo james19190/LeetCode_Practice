{
 "cells": [
  {
   "cell_type": "markdown",
   "metadata": {},
   "source": [
    "#### 2. Add Two Numbers\n",
    "\n",
    "You are given two non-empty linked lists representing two non-negative integers. The digits are stored in reverse order, and each of their nodes contains a single digit. Add the two numbers and return the sum as a linked list.\n",
    "\n",
    "You may assume the two numbers do not contain any leading zero, except the number 0 itself."
   ]
  },
  {
   "cell_type": "code",
   "execution_count": 1,
   "metadata": {},
   "outputs": [],
   "source": [
    "class ListNode:\n",
    "    def __init__(self, val=0, next=None):\n",
    "        self.val = val\n",
    "        self.next = next"
   ]
  },
  {
   "cell_type": "markdown",
   "metadata": {},
   "source": [
    "##### Clarifying Questions\n",
    "- Can the length of the linked lists be different?\n",
    "\n",
    "##### Method 1 - brute force\n",
    "1) Cycle through each linked list and change to int 2*O(length)\n",
    "2) Add integers and store value  O(1)\n",
    "3) Construct new linked list from stored value and return O(length)\n",
    "\n",
    "- O(length ~ n) -> O(n)\n",
    "\n"
   ]
  },
  {
   "cell_type": "code",
   "execution_count": 39,
   "metadata": {},
   "outputs": [],
   "source": [
    "class Solution(object):\n",
    "    def addTwoNumbers(self, l1, l2):\n",
    "        dummy_head = ListNode(0)\n",
    "        current = dummy_head\n",
    "        carry = 0\n",
    "\n",
    "        while l1 or l2 or carry:\n",
    "            # Get the values of the current nodes or 0 if the nodes are None\n",
    "            val1 = l1.val if l1 else 0\n",
    "            val2 = l2.val if l2 else 0\n",
    "\n",
    "            # Calculate the sum and carry\n",
    "            _sum = val1 + val2 + carry\n",
    "            carry = _sum // 10\n",
    "\n",
    "            # Create a new node with the digit of the sum\n",
    "            current.next = ListNode(_sum % 10)\n",
    "\n",
    "            # Move to the next nodes if they exist\n",
    "            if l1:\n",
    "                l1 = l1.next\n",
    "            if l2:\n",
    "                l2 = l2.next\n",
    "\n",
    "            # Move to the next node in the result linked list\n",
    "            current = current.next\n",
    "\n",
    "        return dummy_head.next"
   ]
  },
  {
   "cell_type": "code",
   "execution_count": 40,
   "metadata": {},
   "outputs": [
    {
     "name": "stdout",
     "output_type": "stream",
     "text": [
      "<__main__.ListNode object at 0x00000200457CF050>\n"
     ]
    }
   ],
   "source": [
    "l3_1 = ListNode(3)\n",
    "l2_1 = ListNode(4,l3_1)\n",
    "l1_1 = ListNode(2,l2_1)\n",
    "\n",
    "l3_2 = ListNode(4)\n",
    "l2_2 = ListNode(6,l3_2)\n",
    "l1_2 = ListNode(5,l2_2)\n",
    "\n",
    "e = Solution()\n",
    "print(e.addTwoNumbers(l1_1, l1_2))\n"
   ]
  }
 ],
 "metadata": {
  "kernelspec": {
   "display_name": "Python 3",
   "language": "python",
   "name": "python3"
  },
  "language_info": {
   "codemirror_mode": {
    "name": "ipython",
    "version": 3
   },
   "file_extension": ".py",
   "mimetype": "text/x-python",
   "name": "python",
   "nbconvert_exporter": "python",
   "pygments_lexer": "ipython3",
   "version": "3.11.4"
  }
 },
 "nbformat": 4,
 "nbformat_minor": 2
}
