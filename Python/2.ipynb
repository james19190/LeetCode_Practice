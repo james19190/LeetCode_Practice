{
 "cells": [
  {
   "cell_type": "markdown",
   "metadata": {},
   "source": [
    "#### 2. Add Two Numbers\n",
    "\n",
    "You are given two non-empty linked lists representing two non-negative integers. The digits are stored in reverse order, and each of their nodes contains a single digit. Add the two numbers and return the sum as a linked list.\n",
    "\n",
    "You may assume the two numbers do not contain any leading zero, except the number 0 itself."
   ]
  },
  {
   "cell_type": "code",
   "execution_count": 1,
   "metadata": {},
   "outputs": [],
   "source": [
    "class ListNode:\n",
    "    def __init__(self, val=0, next=None):\n",
    "        self.val = val\n",
    "        self.next = next"
   ]
  },
  {
   "cell_type": "markdown",
   "metadata": {},
   "source": [
    "##### Clarifying Questions\n",
    "- Can the length of the linked lists be different?\n",
    "\n",
    "##### Method 1 - brute force\n",
    "1) Cycle through each linked list and change to int 2*O(length)\n",
    "2) Add integers and store value  O(1)\n",
    "3) Construct new linked list from stored value and return O(length)\n",
    "\n",
    "- O(length ~ n) -> O(n)\n",
    "\n"
   ]
  },
  {
   "cell_type": "code",
   "execution_count": 24,
   "metadata": {},
   "outputs": [],
   "source": [
    "class Solution(object):\n",
    "    def addTwoNumbers(self, l1, l2):\n",
    "\n",
    "\n",
    "\n",
    "        val = 0\n",
    "        multi = 1\n",
    "        stack_1 = []\n",
    "        while (l1 != None):\n",
    "            stack_1.append(l1)\n",
    "            l1 = l1.next\n",
    "        while (stack_1):\n",
    "            val += stack_1.pop().val*multi\n",
    "            multi *= 10\n",
    "\n",
    "        multi = 1\n",
    "        stack_2 = []\n",
    "        while (l2.next != None):\n",
    "            stack_2.append(l2)\n",
    "            l2 = l2.next\n",
    "        while (stack_1):\n",
    "            val += stack_1.pop().val*multi\n",
    "            multi *= 10\n",
    "\n",
    "        print(val)\n",
    "        return stack_1\n",
    "\n",
    "\n",
    "        \n",
    "\n",
    "        "
   ]
  },
  {
   "cell_type": "code",
   "execution_count": 25,
   "metadata": {},
   "outputs": [
    {
     "name": "stdout",
     "output_type": "stream",
     "text": [
      "89\n",
      "[]\n"
     ]
    }
   ],
   "source": [
    "l3_1 = ListNode(3)\n",
    "l2_1 = ListNode(4,l3_1)\n",
    "l1_1 = ListNode(2,l2_1)\n",
    "\n",
    "l3_2 = ListNode(4)\n",
    "l2_2 = ListNode(6,l3_2)\n",
    "l1_2 = ListNode(5,l2_2)\n",
    "\n",
    "e = Solution()\n",
    "print(e.addTwoNumbers(l1_1, l1_2))\n"
   ]
  }
 ],
 "metadata": {
  "kernelspec": {
   "display_name": "Python 3",
   "language": "python",
   "name": "python3"
  },
  "language_info": {
   "codemirror_mode": {
    "name": "ipython",
    "version": 3
   },
   "file_extension": ".py",
   "mimetype": "text/x-python",
   "name": "python",
   "nbconvert_exporter": "python",
   "pygments_lexer": "ipython3",
   "version": "3.11.4"
  }
 },
 "nbformat": 4,
 "nbformat_minor": 2
}
