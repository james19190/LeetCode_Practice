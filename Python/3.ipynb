{
 "cells": [
  {
   "cell_type": "markdown",
   "metadata": {},
   "source": [
    "#### 3. Longest Substring Without Repeating Characters\n",
    "\n",
    "Given a string s, find the length of the longest substring without repeating characters.\n",
    "\n",
    " \n",
    "\n",
    "Example 1:\n",
    "\n",
    "Input: s = \"abcabcbb\"\n",
    "Output: 3\n",
    "Explanation: The answer is \"abc\", with the length of 3.\n",
    "Example 2:\n",
    "\n",
    "Input: s = \"bbbbb\"\n",
    "Output: 1\n",
    "Explanation: The answer is \"b\", with the length of 1.\n",
    "Example 3:\n",
    "\n",
    "Input: s = \"pwwkew\"\n",
    "Output: 3\n",
    "Explanation: The answer is \"wke\", with the length of 3.\n",
    "Notice that the answer must be a substring, \"pwke\" is a subsequence and not a substring.\n",
    " \n",
    "\n",
    "Constraints:\n",
    "\n",
    "0 <= s.length <= 5 * 104\n",
    "s consists of English letters, digits, symbols and spaces."
   ]
  },
  {
   "cell_type": "markdown",
   "metadata": {},
   "source": [
    "##### Clarifying Questions\n",
    "- Can empty strings be given as input? \n",
    "- Are spaces counted as characters?\n",
    "\n",
    "\n",
    "##### Method 1 - brute force\n",
    "\n",
    "1) Find all possible combinations of substrings ~ O(n^2)\n",
    "2) Check if there are repeating substrings ~ O(n) \n",
    "3) Find the longest substring w/o repeating chars ~ O(1)\n",
    "4) Return longest substring ~ O(1)\n",
    "\n",
    "-> O(n^3)\n",
    "\n"
   ]
  },
  {
   "cell_type": "code",
   "execution_count": 2,
   "metadata": {},
   "outputs": [],
   "source": [
    "class Solution(object):\n",
    "    @staticmethod\n",
    "    def checkRepeating(s):\n",
    "        letter_set = set()\n",
    "        for i in range(len(s)-1):\n",
    "            if s[i] in letter_set:\n",
    "                return False, 0\n",
    "            else:\n",
    "                letter_set.add(s[i])\n",
    "        return True, len(letter_set)\n",
    "    \n",
    "    def lengthOfLongestSubstring(self, s):\n",
    "        max_length = 0\n",
    "\n",
    "        for i in range(len(s)):\n",
    "            for j in range(i + 1, len(s)):\n",
    "                check, number = Solution.checkRepeating(s[i:j])\n",
    "                if check is True and number > max_length:\n",
    "                    max_length = number\n",
    "        return max_length\n"
   ]
  },
  {
   "cell_type": "code",
   "execution_count": 3,
   "metadata": {},
   "outputs": [],
   "source": [
    "class Solution(object):\n",
    "    def lengthOfLongestSubstring(self, s):\n",
    "        char_index_map = {}  # To store the index of each character in the string\n",
    "        max_length = 0\n",
    "        start = 0\n",
    "\n",
    "        for end in range(len(s)):\n",
    "            if s[end] in char_index_map and char_index_map[s[end]] >= start:\n",
    "                # If the current character is repeated and the previous occurrence is within the current substring,\n",
    "                # update the starting index of the substring\n",
    "                start = char_index_map[s[end]] + 1\n",
    "\n",
    "            char_index_map[s[end]] = end  # Update the index of the current character\n",
    "            max_length = max(max_length, end - start + 1)\n",
    "\n",
    "        return max_length\n"
   ]
  },
  {
   "cell_type": "code",
   "execution_count": 5,
   "metadata": {},
   "outputs": [
    {
     "name": "stdout",
     "output_type": "stream",
     "text": [
      "0\n",
      "1\n",
      "2\n",
      "3\n",
      "4\n"
     ]
    }
   ],
   "source": [
    "no = \"apple\"\n",
    "\n",
    "for i in range(len(no)):\n",
    "    print(i)"
   ]
  }
 ],
 "metadata": {
  "kernelspec": {
   "display_name": "Python 3",
   "language": "python",
   "name": "python3"
  },
  "language_info": {
   "codemirror_mode": {
    "name": "ipython",
    "version": 3
   },
   "file_extension": ".py",
   "mimetype": "text/x-python",
   "name": "python",
   "nbconvert_exporter": "python",
   "pygments_lexer": "ipython3",
   "version": "3.11.4"
  }
 },
 "nbformat": 4,
 "nbformat_minor": 2
}
