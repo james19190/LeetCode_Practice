{
 "cells": [
  {
   "cell_type": "markdown",
   "metadata": {},
   "source": [
    "#### 4. Median of Two Sorted Arrays\n",
    "\n",
    "Given two sorted arrays nums1 and nums2 of size m and n respectively, return the median of the two sorted arrays.\n",
    "\n",
    "The overall run time complexity should be O(log (m+n)).\n",
    "\n",
    " \n",
    "\n",
    "Example 1:\n",
    "\n",
    "Input: nums1 = [1,3], nums2 = [2]\n",
    "Output: 2.00000\n",
    "Explanation: merged array = [1,2,3] and median is 2.\n",
    "Example 2:\n",
    "\n",
    "Input: nums1 = [1,2], nums2 = [3,4]\n",
    "Output: 2.50000\n",
    "Explanation: merged array = [1,2,3,4] and median is (2 + 3) / 2 = 2.5.\n"
   ]
  },
  {
   "cell_type": "markdown",
   "metadata": {},
   "source": [
    "##### Clarifying Questions\n",
    "- Can there be empty arrays as input?\n",
    "\n",
    "\n",
    "##### Method 1 - brute force\n",
    "\n",
    "1) Find all possible combinations of substrings ~ O(n^2)\n",
    "2) Check if there are repeating substrings ~ O(n) \n",
    "3) Find the longest substring w/o repeating chars ~ O(1)\n",
    "4) Return longest substring ~ O(1)\n",
    "\n",
    "-> O(n^3)\n",
    "\n"
   ]
  },
  {
   "cell_type": "code",
   "execution_count": null,
   "metadata": {},
   "outputs": [],
   "source": [
    "import math\n",
    "\n",
    "class Solution(object):\n",
    "    def findMedianSortedArrays(self, nums1, nums2):\n",
    "        arr = nums1 + nums2\n",
    "        print(arr)\n",
    "        arr.sort()\n",
    "        if (len(arr) is 0):\n",
    "            return 0\n",
    "        elif (len(arr)%2 is 0):\n",
    "            pos_1 = len(arr)/2\n",
    "            pos_2 = pos_1 - 1\n",
    "            med = float((arr[pos_1] + arr[pos_2]))/2\n",
    "            return med\n",
    "        return arr[len(arr)/2]"
   ]
  }
 ],
 "metadata": {
  "language_info": {
   "name": "python"
  }
 },
 "nbformat": 4,
 "nbformat_minor": 2
}
