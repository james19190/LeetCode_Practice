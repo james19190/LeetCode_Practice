{
 "cells": [
  {
   "cell_type": "markdown",
   "metadata": {},
   "source": [
    "#### 4. 5. Longest Palindromic Substring\n",
    "\n",
    "Given a string s, return the longest palindromic substring in s.\n",
    "\n",
    "Example 1:\n",
    "\n",
    "Input: s = \"babad\"\n",
    "Output: \"bab\"\n",
    "Explanation: \"aba\" is also a valid answer.\n",
    "Example 2:\n",
    "\n",
    "Input: s = \"cbbd\"\n",
    "Output: \"bb\"\n",
    " \n",
    "\n",
    "Constraints:\n",
    "\n",
    "1 <= s.length <= 1000\n",
    "s consist of only digits and English letters.\n"
   ]
  },
  {
   "cell_type": "markdown",
   "metadata": {},
   "source": [
    "##### Clarifying Questions\n",
    "- Can the input be a null string?\n",
    "- Should spaces be counted as a character or should they be ignored?\n",
    "- What happens if there are multiple longest palindromic substrings?\n",
    "\n",
    "\n",
    "##### Method 1 - brute force\n",
    "\n",
    "1) Find all possible combinations of substrings ~ O(n^2)\n",
    "2) Check if it is palindromic ~ O(n) \n",
    "3) Find the longest substrings ~ O(1)\n",
    "4) Return longest substring ~ O(1)\n",
    "\n",
    "-> O(n^3)\n",
    "\n",
    "##### Method 2 - sliding window\n",
    "\n",
    "1) Initialize start_pos = 0 end_pos to 1\n"
   ]
  },
  {
   "cell_type": "code",
   "execution_count": 3,
   "metadata": {},
   "outputs": [],
   "source": [
    "class Solution(object):\n",
    "    @staticmethod\n",
    "    def isPalindrome(substring):\n",
    "        for i in range(len(substring)):\n",
    "            if (substring[i] is not substring[len(substring)-i-1]):\n",
    "                return False,len(substring), substring \n",
    "        return True, len(substring), substring\n",
    "\n",
    "    def longestPalindrome(self, s):\n",
    "        length = len(s)\n",
    "        maxLength = 0\n",
    "        maxPalindrome = \"\"\n",
    "\n",
    "        for i in range(length+1):\n",
    "            for j in range(i, length+1):\n",
    "                palin, c_len, ss = Solution.isPalindrome(s[i:j])\n",
    "                print(s[i:j])\n",
    "                if palin and (c_len>maxLength):\n",
    "                    maxLength = c_len\n",
    "                    maxPalindrome = ss\n",
    "                   \n",
    "        \n",
    "        return maxPalindrome\n",
    "        "
   ]
  },
  {
   "cell_type": "code",
   "execution_count": 5,
   "metadata": {},
   "outputs": [
    {
     "ename": "TypeError",
     "evalue": "Solution.longestPalindrome() missing 1 required positional argument: 's'",
     "output_type": "error",
     "traceback": [
      "\u001b[1;31m---------------------------------------------------------------------------\u001b[0m",
      "\u001b[1;31mTypeError\u001b[0m                                 Traceback (most recent call last)",
      "\u001b[1;32mc:\\Users\\James\\Documents\\GitHub\\CodingPractice\\Python\\5.ipynb Cell 4\u001b[0m line \u001b[0;36m1\n\u001b[1;32m----> <a href='vscode-notebook-cell:/c%3A/Users/James/Documents/GitHub/CodingPractice/Python/5.ipynb#W3sZmlsZQ%3D%3D?line=0'>1</a>\u001b[0m \u001b[39mprint\u001b[39m(Solution\u001b[39m.\u001b[39;49mlongestPalindrome(\u001b[39m\"\u001b[39;49m\u001b[39mbabad\u001b[39;49m\u001b[39m\"\u001b[39;49m))\n",
      "\u001b[1;31mTypeError\u001b[0m: Solution.longestPalindrome() missing 1 required positional argument: 's'"
     ]
    }
   ],
   "source": [
    "\n"
   ]
  }
 ],
 "metadata": {
  "kernelspec": {
   "display_name": "Python 3",
   "language": "python",
   "name": "python3"
  },
  "language_info": {
   "codemirror_mode": {
    "name": "ipython",
    "version": 3
   },
   "file_extension": ".py",
   "mimetype": "text/x-python",
   "name": "python",
   "nbconvert_exporter": "python",
   "pygments_lexer": "ipython3",
   "version": "3.11.4"
  }
 },
 "nbformat": 4,
 "nbformat_minor": 2
}
