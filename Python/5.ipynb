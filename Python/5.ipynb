{
 "cells": [
  {
   "cell_type": "markdown",
   "metadata": {},
   "source": [
    "#### 4. 5. Longest Palindromic Substring\n",
    "\n",
    "Given a string s, return the longest palindromic substring in s.\n",
    "\n",
    "Example 1:\n",
    "\n",
    "Input: s = \"babad\"\n",
    "Output: \"bab\"\n",
    "Explanation: \"aba\" is also a valid answer.\n",
    "Example 2:\n",
    "\n",
    "Input: s = \"cbbd\"\n",
    "Output: \"bb\"\n",
    " \n",
    "\n",
    "Constraints:\n",
    "\n",
    "1 <= s.length <= 1000\n",
    "s consist of only digits and English letters.\n"
   ]
  },
  {
   "cell_type": "markdown",
   "metadata": {},
   "source": [
    "##### Clarifying Questions\n",
    "- Can the input be a null string?\n",
    "- Should spaces be counted as a character or should they be ignored?\n",
    "- What happens if there are multiple longest palindromic substrings?\n",
    "\n",
    "\n",
    "##### Method 1 - brute force\n",
    "\n",
    "1) Find all possible combinations of substrings ~ O(n^2)\n",
    "2) Check if it is palindromic ~ O(n) \n",
    "3) Find the longest substrings ~ O(1)\n",
    "4) Return longest substring ~ O(1)\n",
    "\n",
    "-> O(n^3)\n",
    "\n"
   ]
  },
  {
   "cell_type": "code",
   "execution_count": null,
   "metadata": {},
   "outputs": [],
   "source": [
    "class Solution(object):\n",
    "    def longestPalindrome(self, s):\n",
    "        \"\"\"\n",
    "        :type s: str\n",
    "        :rtype: str\n",
    "        \"\"\"\n",
    "        "
   ]
  }
 ],
 "metadata": {
  "language_info": {
   "name": "python"
  }
 },
 "nbformat": 4,
 "nbformat_minor": 2
}
