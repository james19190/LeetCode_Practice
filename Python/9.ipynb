{
 "cells": [
  {
   "cell_type": "markdown",
   "metadata": {},
   "source": [
    "9. Palindrome Number\n",
    "Easy\n",
    "11.6K\n",
    "2.6K\n",
    "Companies\n",
    "\n",
    "\n",
    "Given an integer x, return true if x is a \n",
    "palindrome\n",
    ", and false otherwise.\n",
    "\n",
    " \n",
    "\n",
    "Example 1:\n",
    "\n",
    "Input: x = 121\n",
    "Output: true\n",
    "Explanation: 121 reads as 121 from left to right and from right to left.\n",
    "Example 2:\n",
    "\n",
    "Input: x = -121\n",
    "Output: false\n",
    "Explanation: From left to right, it reads -121. From right to left, it becomes 121-. Therefore it is not a palindrome.\n",
    "Example 3:\n",
    "\n",
    "Input: x = 10\n",
    "Output: false\n",
    "Explanation: Reads 01 from right to left. Therefore it is not a palindrome.\n",
    " \n",
    "\n",
    "Constraints:\n",
    "\n",
    "-231 <= x <= 231 - 1"
   ]
  },
  {
   "cell_type": "code",
   "execution_count": 3,
   "metadata": {},
   "outputs": [],
   "source": [
    "class Solution(object):\n",
    "    def isPalindrome(self, x):\n",
    "        str_x = str(x)\n",
    "        length = len(str_x)\n",
    "\n",
    "        for i in range(int(length/2)):\n",
    "            if (str_x.index(i) != str_x.index(length-i)):\n",
    "                return False\n",
    "\n",
    "        return True\n",
    "\n"
   ]
  },
  {
   "cell_type": "code",
   "execution_count": 4,
   "metadata": {},
   "outputs": [
    {
     "ename": "TypeError",
     "evalue": "'float' object cannot be interpreted as an integer",
     "output_type": "error",
     "traceback": [
      "\u001b[1;31m---------------------------------------------------------------------------\u001b[0m",
      "\u001b[1;31mTypeError\u001b[0m                                 Traceback (most recent call last)",
      "\u001b[1;32mc:\\Users\\James\\Documents\\GitHub\\CodingPractice\\Python\\9.ipynb Cell 3\u001b[0m line \u001b[0;36m2\n\u001b[0;32m      <a href='vscode-notebook-cell:/c%3A/Users/James/Documents/GitHub/CodingPractice/Python/9.ipynb#W2sZmlsZQ%3D%3D?line=0'>1</a>\u001b[0m e \u001b[39m=\u001b[39m Solution()\n\u001b[1;32m----> <a href='vscode-notebook-cell:/c%3A/Users/James/Documents/GitHub/CodingPractice/Python/9.ipynb#W2sZmlsZQ%3D%3D?line=1'>2</a>\u001b[0m \u001b[39mprint\u001b[39m(e\u001b[39m.\u001b[39;49misPalindrome(\u001b[39m1001\u001b[39;49m))\n",
      "\u001b[1;32mc:\\Users\\James\\Documents\\GitHub\\CodingPractice\\Python\\9.ipynb Cell 3\u001b[0m line \u001b[0;36m6\n\u001b[0;32m      <a href='vscode-notebook-cell:/c%3A/Users/James/Documents/GitHub/CodingPractice/Python/9.ipynb#W2sZmlsZQ%3D%3D?line=2'>3</a>\u001b[0m str_x \u001b[39m=\u001b[39m \u001b[39mstr\u001b[39m(x)\n\u001b[0;32m      <a href='vscode-notebook-cell:/c%3A/Users/James/Documents/GitHub/CodingPractice/Python/9.ipynb#W2sZmlsZQ%3D%3D?line=3'>4</a>\u001b[0m length \u001b[39m=\u001b[39m \u001b[39mlen\u001b[39m(str_x)\n\u001b[1;32m----> <a href='vscode-notebook-cell:/c%3A/Users/James/Documents/GitHub/CodingPractice/Python/9.ipynb#W2sZmlsZQ%3D%3D?line=5'>6</a>\u001b[0m \u001b[39mfor\u001b[39;00m i \u001b[39min\u001b[39;00m \u001b[39mrange\u001b[39;49m(length\u001b[39m/\u001b[39;49m\u001b[39m2\u001b[39;49m):\n\u001b[0;32m      <a href='vscode-notebook-cell:/c%3A/Users/James/Documents/GitHub/CodingPractice/Python/9.ipynb#W2sZmlsZQ%3D%3D?line=6'>7</a>\u001b[0m     \u001b[39mif\u001b[39;00m (str_x\u001b[39m.\u001b[39mindex(i) \u001b[39m!=\u001b[39m str_x\u001b[39m.\u001b[39mindex(length\u001b[39m-\u001b[39mi)):\n\u001b[0;32m      <a href='vscode-notebook-cell:/c%3A/Users/James/Documents/GitHub/CodingPractice/Python/9.ipynb#W2sZmlsZQ%3D%3D?line=7'>8</a>\u001b[0m         \u001b[39mreturn\u001b[39;00m \u001b[39mFalse\u001b[39;00m\n",
      "\u001b[1;31mTypeError\u001b[0m: 'float' object cannot be interpreted as an integer"
     ]
    }
   ],
   "source": [
    "e = Solution()\n",
    "print(e.isPalindrome(1001))"
   ]
  }
 ],
 "metadata": {
  "kernelspec": {
   "display_name": "Python 3",
   "language": "python",
   "name": "python3"
  },
  "language_info": {
   "codemirror_mode": {
    "name": "ipython",
    "version": 3
   },
   "file_extension": ".py",
   "mimetype": "text/x-python",
   "name": "python",
   "nbconvert_exporter": "python",
   "pygments_lexer": "ipython3",
   "version": "3.11.4"
  }
 },
 "nbformat": 4,
 "nbformat_minor": 2
}
